{
 "cells": [
  {
   "cell_type": "markdown",
   "metadata": {},
   "source": [
    "<h2> <center> Vote Analysis  </center> </h2>\n",
    "\n",
    "\n",
    "This tool is an interactive visual aid for the [Medium Article](https://medium.com/@mboyanov/k-means-clustering-for-vote-analysis-90ba60e54a41) where I describe my work on vote analysis via K-means.\n",
    "\n",
    "Please select a cluster id below to visualize the cluster center as well as the sections that are closest and furthest to it.\n",
    "\n",
    "Handy legend for the top parties:       \n",
    "4) BSP    \n",
    "9) DPS      \n",
    "11) DBG     \n",
    "18) ISMV    \n",
    "28) GERB      \n",
    "29) ITN       \n"
   ]
  },
  {
   "cell_type": "code",
   "execution_count": 1,
   "metadata": {},
   "outputs": [],
   "source": [
    "from ipywidgets import interact"
   ]
  },
  {
   "cell_type": "code",
   "execution_count": 2,
   "metadata": {},
   "outputs": [],
   "source": [
    "%%capture\n",
    "!mkdir -p data\n",
    "!wget https://results.cik.bg/pi2021/export.zip -O data/izbori.zip\n",
    "!unzip -o data/izbori.zip  -d data/ "
   ]
  },
  {
   "cell_type": "code",
   "execution_count": 2,
   "metadata": {},
   "outputs": [],
   "source": [
    "import pandas as pd\n",
    "import seaborn as sns\n",
    "from matplotlib import cm\n",
    "from sklearn.cluster import KMeans\n",
    "import numpy as np\n",
    "import scipy\n",
    "from __future__ import print_function\n",
    "from ipywidgets import interact, interactive, fixed, interact_manual\n",
    "import ipywidgets as widgets\n",
    "pd.set_option('display.max_columns', None)\n",
    "pd.set_option('precision', 2)\n"
   ]
  },
  {
   "cell_type": "code",
   "execution_count": 3,
   "metadata": {},
   "outputs": [],
   "source": [
    "parties = pd.read_csv(\"data/cik_parties_04.04.2021.txt\", sep=\";\", names=[\"id\", \"party\"]).set_index(\"id\")"
   ]
  },
  {
   "cell_type": "code",
   "execution_count": 4,
   "metadata": {},
   "outputs": [],
   "source": [
    "section_data = pd.read_csv('data/sections_04.04.2021.txt', sep=';', \n",
    "                           names=[\"section_id\", \"admin_id\", \"admin_name\", \"EKATTE\", \"city\", \"is_mobile\", \"is_ship\", \"is_machine\"],\n",
    "                          dtype={\"section_id\": object, \"admin_id\": object})"
   ]
  },
  {
   "cell_type": "code",
   "execution_count": 5,
   "metadata": {},
   "outputs": [],
   "source": [
    "section_votes = []\n",
    "def get_votes(l, parties):\n",
    "    entries = l.split(\";\")\n",
    "    section_id = entries[0]\n",
    "    adm_id = entries[1]\n",
    "    votes = [int(v) if v!='' else 0 for v in entries[2:]]\n",
    "    res = {\n",
    "        'section_id': section_id,\n",
    "        'admin_id': adm_id\n",
    "    }\n",
    "    total_votes = 0\n",
    "    for i in range(0, len(votes), 4):\n",
    "        party_id = votes[i]\n",
    "        if party_id > 30:\n",
    "            continue\n",
    "        #party_name = parties.loc[party_id]['party']\n",
    "        party_votes = votes[i+1]\n",
    "        res[party_id] = party_votes\n",
    "        total_votes += party_votes\n",
    "    res['total_votes'] = total_votes\n",
    "    return res\n",
    "\n",
    "section_votes = []\n",
    "for line in open(\"data/votes_04.04.2021.txt\"):\n",
    "    section_votes.append(get_votes(line.strip(), parties))\n",
    "    \n",
    "section_votes = pd.DataFrame(section_votes)"
   ]
  },
  {
   "cell_type": "code",
   "execution_count": 6,
   "metadata": {},
   "outputs": [],
   "source": [
    "normalized_votes = section_votes[['section_id', 'admin_id']].copy()\n",
    "for col in range(1, 31):\n",
    "    normalized_votes[col] = section_votes[col]/section_votes['total_votes']"
   ]
  },
  {
   "cell_type": "code",
   "execution_count": 7,
   "metadata": {},
   "outputs": [],
   "source": [
    "actual_votes = pd.Series([0.0364, 0.0015, 0.0009, 0.1501, 0.0245, 0.0046, 0.0049, 0.0029, 0.1051, 0.0012, 0.0945, 0.0041, 0.0011, 0.0295, 0.0003, 0.0011, 0.0007, 0.0472, 0.0026, 0.0053, 0.0131, 0.0007, 0.0005, 0.0237, 0.0017, 0.0011, 0.001, 0.2618, 0.1766, 0.0011\n",
    "], index=[i for i in range(1, 31)])\n"
   ]
  },
  {
   "cell_type": "code",
   "execution_count": 8,
   "metadata": {},
   "outputs": [],
   "source": [
    "cols = [i for i in range(1,31)]"
   ]
  },
  {
   "cell_type": "code",
   "execution_count": 9,
   "metadata": {},
   "outputs": [],
   "source": [
    "kmeans = KMeans(7, random_state=42)\n",
    "kmeans.fit(normalized_votes[cols]);"
   ]
  },
  {
   "cell_type": "code",
   "execution_count": 10,
   "metadata": {},
   "outputs": [],
   "source": [
    "from styling import *"
   ]
  },
  {
   "cell_type": "code",
   "execution_count": 82,
   "metadata": {},
   "outputs": [],
   "source": [
    "# need to reorder according to the order presented in the article\n",
    "correct_order_bsp = {0.18:0, 0.04:1, 0.41:2, 0.12 :3, 0.13:4, 0.17:5, 0.11:6}\n",
    "correct_order = pd.Series(cluster_centers[:, 3]).round(2).apply(lambda x: correct_order_bsp[x])\n",
    "cluster_centers = np.vstack([kmeans.cluster_centers_[x] for x in correct_order])"
   ]
  },
  {
   "cell_type": "code",
   "execution_count": 83,
   "metadata": {},
   "outputs": [],
   "source": [
    "distances = scipy.spatial.distance_matrix(normalized_votes[cols], cluster_centers)"
   ]
  },
  {
   "cell_type": "code",
   "execution_count": 84,
   "metadata": {},
   "outputs": [],
   "source": [
    "sections_extra = pd.merge(normalized_votes, section_data, on=['section_id'])"
   ]
  },
  {
   "cell_type": "code",
   "execution_count": 85,
   "metadata": {},
   "outputs": [],
   "source": [
    "sections_extra['url'] = sections_extra.apply(lambda x: f'<A href=\"https://results.cik.bg/pi2021/pdf/64/{x[\"section_id\"][:2]}/{x[\"section_id\"]}.pdf\">{x[\"section_id\"]} </A>', axis=1)"
   ]
  },
  {
   "cell_type": "code",
   "execution_count": 86,
   "metadata": {},
   "outputs": [],
   "source": [
    "def display_cluster(cluster_id, n=20):\n",
    "    cluster_distances = distances[:, cluster_id]\n",
    "    sorted_sections = cluster_distances.argsort()\n",
    "    \n",
    "    cluster_center = pd.DataFrame({f\"cluster {cluster_id}\": pd.Series(cluster_centers[cluster_id], index=cols)}).transpose()\n",
    "    \n",
    "    print(\"Cluster Center:\")\n",
    "    display(cluster_center.round(2).style.apply(party_colors, axis=None))\n",
    "    \n",
    "    top20 = sorted_sections[:n]\n",
    "    bottom20 = sorted_sections[-n:]\n",
    "    \n",
    "    \n",
    "    print(f\"Closest {n} sections:\")\n",
    "    display(sections_extra.iloc[top20][['url', 'city','admin_name']+cols].round(2).style.apply(party_colors, axis=None))\n",
    "    \n",
    "    print(f\"Furthest {n} sections:\")\n",
    "    display(sections_extra.iloc[bottom20][['url', 'city', 'admin_name']+cols].round(2).style.apply(party_colors, axis=None))\n",
    "    return cluster_id\n"
   ]
  },
  {
   "cell_type": "code",
   "execution_count": 87,
   "metadata": {},
   "outputs": [],
   "source": [
    "from ipywidgets import IntSlider"
   ]
  },
  {
   "cell_type": "code",
   "execution_count": 88,
   "metadata": {
    "scrolled": false
   },
   "outputs": [
    {
     "data": {
      "application/vnd.jupyter.widget-view+json": {
       "model_id": "536892720a6846c98592e585148f1509",
       "version_major": 2,
       "version_minor": 0
      },
      "text/plain": [
       "interactive(children=(Dropdown(description='cluster_id', options=(0, 1, 2, 3, 4, 5, 6), value=0), IntSlider(va…"
      ]
     },
     "metadata": {},
     "output_type": "display_data"
    }
   ],
   "source": [
    "interact(display_cluster, cluster_id=list(range(7)), n=IntSlider(20, 1, 200));"
   ]
  },
  {
   "cell_type": "code",
   "execution_count": null,
   "metadata": {},
   "outputs": [],
   "source": []
  }
 ],
 "metadata": {
  "kernelspec": {
   "display_name": "Python 3",
   "language": "python",
   "name": "python3"
  },
  "language_info": {
   "codemirror_mode": {
    "name": "ipython",
    "version": 3
   },
   "file_extension": ".py",
   "mimetype": "text/x-python",
   "name": "python",
   "nbconvert_exporter": "python",
   "pygments_lexer": "ipython3",
   "version": "3.8.5"
  }
 },
 "nbformat": 4,
 "nbformat_minor": 4
}
